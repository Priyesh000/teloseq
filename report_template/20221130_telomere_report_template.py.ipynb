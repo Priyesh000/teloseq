{
 "cells": [
  {
   "cell_type": "code",
   "execution_count": 23,
   "id": "918f67c6",
   "metadata": {},
   "outputs": [],
   "source": [
    "from IPython.display import Markdown as md\n"
   ]
  },
  {
   "cell_type": "code",
   "execution_count": 24,
   "id": "f4c426bc",
   "metadata": {},
   "outputs": [],
   "source": [
    "try:\n",
    "    run_id = snakemake.wildcards.run_id\n",
    "except:\n",
    "    run_id = snakemake.wildcards.dataset_id\n",
    "md(f'# Report {run_id} {snakemake.wildcards.dataset_id} aligned to {snakemake.wildcards.refgenome_id}')"
   ]
  },
  {
   "cell_type": "code",
   "execution_count": 3,
   "id": "69d1a9fc-557a-422d-b082-434d479e22b8",
   "metadata": {
    "jupyter": {
     "source_hidden": true
    }
   },
   "outputs": [],
   "source": [
    "import pandas as pd\n",
    "from pathlib import Path \n",
    "import re\n",
    "\n",
    "from matplotlib import pyplot as plt\n",
    "import seaborn as sns\n",
    "import numpy as np\n"
   ]
  },
  {
   "cell_type": "code",
   "execution_count": 4,
   "id": "f0e8bc22-21ab-44df-9be8-fa78c016aa5e",
   "metadata": {
    "jupyter": {
     "source_hidden": true
    }
   },
   "outputs": [],
   "source": [
    "##plot settings\n",
    "sns.set(font_scale=1.4)\n",
    "sns.set_style(\"whitegrid\")"
   ]
  },
  {
   "cell_type": "code",
   "execution_count": 5,
   "id": "c485203a-db74-48cb-b988-d044bd065695",
   "metadata": {
    "jupyter": {
     "source_hidden": true
    }
   },
   "outputs": [],
   "source": [
    "## -- Functions: -- ##\n",
    "\n",
    "## RGB\n",
    "ont_colors_rgb = [\n",
    "    (0,132,169),\n",
    "    (144,198,232),\n",
    "    (69,85,96),\n",
    "    (0,98,113),\n",
    "    (217,217,214),\n",
    "    (191,184,175)\n",
    "]\n",
    "\n",
    "def rgb2hex(color):\n",
    "    return \"#{0:02x}{1:02x}{2:02x}\".format(*(color))\n",
    "\n",
    "def ax_settings(ax, dejoined=False) -> None:\n",
    "    \n",
    "    def _settings(ax):\n",
    "        ax.spines['right'].set_visible(False)\n",
    "        ax.spines['top'].set_visible(False)\n",
    "        ax.spines['bottom'].set_edgecolor('#444444')\n",
    "        ax.spines['bottom'].set_linewidth(2)\n",
    "        ax.spines['left'].set_edgecolor('#444444')\n",
    "        ax.spines['left'].set_linewidth(2)\n",
    "    \n",
    "    if dejoined:\n",
    "        ax.spines['left'].set_position(('outward', 10))\n",
    "        ax.spines['bottom'].set_position(('outward', 10))\n",
    "    \n",
    "    if isinstance(ax, sns.FacetGrid):\n",
    "        for a in ax.axes.flat:\n",
    "            _settings(a)\n",
    "    else:\n",
    "        _settings(ax)\n",
    "\n",
    "def N50(a, perc=0.5):\n",
    "    a = np.array(a)\n",
    "    a[::-1].sort() ## sort in deascending order\n",
    "    csum = a.cumsum()\n",
    "    total = csum.max() \n",
    "    nx_idx = np.where(csum == csum[csum>=(total*perc)].min())\n",
    "    return a[nx_idx][0]\n",
    "\n",
    "def ncrf_agg_stats(x):\n",
    "    d = {\n",
    "        'total_reads': len(x),\n",
    "        'telo_len_min': x['telomere_len'].min(),\n",
    "        'avg_telo_len': x['telomere_len'].mean(),\n",
    "        'median_telo_len': x['telomere_len'].median(),\n",
    "        'telo_N50': N50(x['telomere_len']),\n",
    "        'telo_len_max': x['telomere_len'].max(),\n",
    "\n",
    "        'avg_subtelomere_len': x['subtelomere_len'].mean(),\n",
    "        'read_len_min': x['read_len'].min(),\n",
    "        'avg_read_len': x['read_len'].mean(),\n",
    "        'read_N50': N50(x['read_len']),\n",
    "        'read_len_max': x['read_len'].max(),\n",
    "        \n",
    "        'num_read_gt15k': len(x[x['read_len']>15_000]),\n",
    "        'avg_motif_indentify': x['ident'].mean(),\n",
    "        'num_pass_filter': len(x[x['pass_filter']])\n",
    "\n",
    "    }\n",
    "    sf = pd.Series(d)\n",
    "#     sf['num_telomeres_runs'] = sf.total_reads / sf.num_runs\n",
    "    return sf.round(2)\n",
    "\n",
    "def basecall_stats(x):\n",
    "    d = {\n",
    "        'total_reads': len(x),\n",
    "        'total_bases_mb': x.sum()/1e6,\n",
    "        'min_read_len': x.min(),\n",
    "        'mean_read_len': x.mean(),\n",
    "        'median_read_len': x.median(),\n",
    "        'N50_read_len': N50(x),\n",
    "        'max_read_len': x.max(),\n",
    "        'num_gt_15k': len(x[x>15_000])\n",
    "        \n",
    "    }\n",
    "    return pd.Series(d).round(3)\n",
    "\n",
    "\n",
    "## Set colors\n",
    "RED = \"#b53535\"\n",
    "ONT_COLOR = list(map(rgb2hex, ont_colors_rgb)) + [RED]\n",
    "sns.set_palette(ONT_COLOR)"
   ]
  },
  {
   "cell_type": "code",
   "execution_count": 22,
   "id": "f3a309c0-c605-418f-a5ae-5c91dad0bedd",
   "metadata": {
    "jupyter": {
     "source_hidden": true
    }
   },
   "outputs": [],
   "source": [
    "## Directories \n",
    "NCRF_F = snakemake.input.ncrf\n",
    "READ_STATS_F = snakemake.input.bcalls\n",
    "BAM_F = snakemake.input.bam\n",
    "\n",
    "# FLOWCELL = snakemake.wildcards.run_id \n",
    "FLOWCELL =  run_id\n",
    "\n",
    "OUTPUT_F = snakemake.output[0].replace('.basecall_stats.csv', '')"
   ]
  },
  {
   "cell_type": "code",
   "execution_count": 10,
   "id": "80fa62f2-4347-4d4d-9456-2556082210e4",
   "metadata": {
    "jupyter": {
     "source_hidden": true
    }
   },
   "outputs": [],
   "source": [
    "\n",
    "## import ncrf data\n",
    "ncrf = pd.read_csv(NCRF_F)#.drop(['#line', 'motif'], axis=1)\n",
    "ncrf['read_id2']  = ncrf.read_id\n",
    "ncrf['flowcell'] = FLOWCELL\n",
    "ncrf['frag_id'] = ncrf.read_id2.apply(lambda x: x.split('/')[-1])\n",
    "ncrf['read_id'] = ncrf.read_id2.apply(lambda x: x.split('/')[0])\n",
    "ncrf['pass_filter'] = ncrf[['has_subtelomere','started_correctly','is_terminal']].apply(lambda x: all(x), axis=1)\n",
    "\n",
    "## Check for Split reads \n",
    "mulitsegment_reads = ncrf.read_id.value_counts().sort_values(ascending=False)\n",
    "total_telomeric_reads = len(mulitsegment_reads)\n",
    "mulitsegment_reads = mulitsegment_reads.loc[mulitsegment_reads>1]\n",
    "ncrf = ncrf.query('pass_filter == True').copy() ## filter out reads that do not pass filter\n"
   ]
  },
  {
   "cell_type": "code",
   "execution_count": 11,
   "id": "bd3cb66a-d6d2-4f2a-bdd3-c8bf785ff946",
   "metadata": {
    "jupyter": {
     "source_hidden": true
    }
   },
   "outputs": [],
   "source": [
    "## import Read stats for all reads:\n",
    "read_stats = (\n",
    "    pd\n",
    "    .read_csv(READ_STATS_F)\n",
    "    .rename(\n",
    "        columns={'#id':\"read_id\", 'length':'read_len'}\n",
    "    )\n",
    ")\n",
    "read_stats.loc[:,'is_telomeric'] = 'not_telomeric'\n",
    "read_stats.loc[read_stats.read_id.isin(ncrf.read_id),'is_telomeric'] = 'telomeric'\n",
    "read_stats.to_csv(OUTPUT_F+'.read_stats.csv', index=False)\n",
    "\n",
    "## Basecall Stats\n",
    "bs_stats = read_stats.groupby('is_telomeric')['read_len'].apply(basecall_stats).unstack(0)\n",
    "bs_stats['total'] = bs_stats.sum(1).round(3)\n",
    "bs_stats.loc[\"min_read_len\":\"max_read_len\", 'total'] = pd.NA\n",
    "bs_stats['percentage'] = (bs_stats.telomeric / bs_stats.total).mul(100)\n",
    "bs_stats.to_csv(snakemake.output[0], index=True)\n",
    "md(f\"## Basecall stats for all data (No filter):\\n{bs_stats.to_markdown()}\")\n"
   ]
  },
  {
   "cell_type": "code",
   "execution_count": null,
   "id": "9dfdb4b3-fa4c-4d07-8f93-cf1c64337c3a",
   "metadata": {
    "jupyter": {
     "source_hidden": true
    }
   },
   "outputs": [],
   "source": []
  },
  {
   "cell_type": "code",
   "execution_count": 12,
   "id": "dde1e3e4-1e57-4e5f-981f-94ca3bf44da3",
   "metadata": {
    "jupyter": {
     "source_hidden": true
    }
   },
   "outputs": [],
   "source": [
    "# TODO: # fix telomere stats\n",
    "ncrf_agg  = ncrf.groupby('flowcell').apply(ncrf_agg_stats).T\n",
    "ncrf_agg.to_csv(OUTPUT_F+'.ncrf.agg.csv',index=True)\n",
    "\n",
    "# md(f\"### Number of reads with Chimeric reads {100 *len(mulitsegment_reads)/total_telomeric_reads:.3f} % ({len(mulitsegment_reads)}/{total_telomeric_reads})\")\n",
    "md(data=f\"\"\"\n",
    "# Telomoere stats (filtered, informatically digested)\\n{ncrf_agg.to_markdown()}\n",
    "\n",
    "A some portion of reads could ligate to each other, denote here a \"Split\" (Chimeric) reads\n",
    "* Number of Split reads **{100 *len(mulitsegment_reads)/total_telomeric_reads:.3f}% ({len(mulitsegment_reads)}/{total_telomeric_reads})**\n",
    "\n",
    "\n",
    "\"\"\")"
   ]
  },
  {
   "cell_type": "code",
   "execution_count": 26,
   "id": "f0ea8c59-5e79-4891-bafe-3a89f72fea47",
   "metadata": {
    "jupyter": {
     "source_hidden": true
    }
   },
   "outputs": [],
   "source": [
    "bam_df = pd.read_csv(BAM_F)\n",
    "chromosome_order = [f'chr{x}' for x in range(1,23)] + ['chrX', 'chrY']\n",
    "bam_df['chrom_name'] = bam_df.rname.apply(lambda x: x.split('/')[0].split('.')[0])\n",
    "bam_df['arm'] = bam_df.rname.apply(lambda x: x.split('/')[0].split('.')[1])\n",
    "\n",
    "\n",
    "# bam_df['chrom_name'] = bam_df.arm.apply(lambda x: x.split('.')[0])\n",
    "# bam_df['arm'] = bam_df.arm.apply(lambda x: x.split('.')[1])\n",
    "\n",
    "bam_df['chromosomes'] = pd.Categorical(\n",
    "    bam_df.chrom_name, categories=chromosome_order, ordered=True)\n",
    "length_before = len(bam_df)\n",
    "bam_df = bam_df.merge(ncrf[['read_id2', 'telomere_len']], left_on='read_id', right_on='read_id2')\n",
    "\n",
    "assert len(bam_df) == length_before\n",
    "# bam_df\n",
    "bam_df.to_csv(OUTPUT_F+'.bam_stats.csv',index=False)\n"
   ]
  },
  {
   "cell_type": "code",
   "execution_count": 27,
   "id": "a21310a1-1b98-4296-acf1-b8fa74d94f0e",
   "metadata": {
    "jupyter": {
     "source_hidden": true
    }
   },
   "outputs": [],
   "source": [
    "ncrf.loc[:, 'is_mapped'] ='unmapped'\n",
    "ncrf.loc[ncrf.read_id2.isin(bam_df.read_id),'is_mapped'] = 'mapped'\n",
    "ncrf.to_csv(OUTPUT_F+'.ncrf.csv', index=False)\n"
   ]
  },
  {
   "cell_type": "code",
   "execution_count": 28,
   "id": "71a4b623-82a8-4c35-addf-f6eec200a852",
   "metadata": {
    "jupyter": {
     "source_hidden": true
    }
   },
   "outputs": [],
   "source": [
    "\n",
    "fig, ax = plt.subplots(figsize=(8,5))\n",
    "\n",
    "ax_settings(\n",
    "    ncrf.loc[ncrf.pass_filter] ## pass filter reads\n",
    "    .is_mapped\n",
    "    .value_counts(normalize=True)\n",
    "    .mul(100)\n",
    "    .plot(\n",
    "        kind='barh', \n",
    "        stacked=True, \n",
    "        title='Percentage telomeres mapped', \n",
    "        xlim=(0,100),\n",
    "        color=ONT_COLOR[0],\n",
    "        ax=ax\n",
    "        # xlabel='Percentage (%)'\n",
    "         )\n",
    ")\n"
   ]
  },
  {
   "cell_type": "code",
   "execution_count": 29,
   "id": "fe56808c-0256-48f8-8055-9e4a48afd999",
   "metadata": {
    "jupyter": {
     "source_hidden": true
    }
   },
   "outputs": [],
   "source": [
    "coverage_df = (\n",
    "    bam_df[['chromosomes','arm']]\n",
    "    .value_counts(normalize=True)\n",
    "    .mul(100).rename('coverage')\n",
    "    .reset_index()\n",
    ")\n",
    "fig, ax = plt.subplots(figsize=(20,5))\n",
    "sns.barplot(data=coverage_df, x='chromosomes', y='coverage', hue='arm', ax=ax)\n",
    "ax.set(\n",
    "    title='Normalised telomere coverage',\n",
    "    xlabel='Chromosomes',\n",
    "    ylabel='Coverage (%)'\n",
    ")\n",
    "ax.tick_params(axis='x', labelrotation=45)\n",
    "ax_settings(ax)\n"
   ]
  },
  {
   "cell_type": "code",
   "execution_count": 49,
   "id": "dcf9dc73",
   "metadata": {},
   "outputs": [],
   "source": [
    "## Average telomere length\n",
    "mean_telomere_len = bam_df.telomere_len.mean()\n",
    "median_telomere_len =  bam_df.telomere_len.median()\n",
    "ax = sns.histplot(data=bam_df, x='telomere_len', kde=True)\n",
    "ax.axvline(mean_telomere_len, label='mean')\n",
    "ax.axvline(median_telomere_len, linestyle='--', label='median')\n",
    "ax.set(\n",
    "    title = f'Distribution of telomere lengths: Avg {mean_telomere_len:.2f}',\n",
    "    xlabel ='Telomere lengths (bp)',    \n",
    ")\n",
    "ax_settings(ax)\n",
    "\n",
    "\n",
    "md(f'## Average telmoeric length {mean_telomere_len:,.2}\\n\\n')\n"
   ]
  },
  {
   "cell_type": "code",
   "execution_count": 32,
   "id": "ec52adb3-7d09-4847-8c38-6641c0419f76",
   "metadata": {
    "jupyter": {
     "source_hidden": true
    },
    "tags": []
   },
   "outputs": [],
   "source": [
    "coverage_df_read_count = (\n",
    "    bam_df[['chromosomes','arm']]\n",
    "    .value_counts(normalize=False)\n",
    "    .rename('counts')\n",
    "    .reset_index()\n",
    ")\n",
    "\n",
    "fig, (ax1, ax2) = plt.subplots(2, sharex=True, figsize=(20,10))\n",
    "\n",
    "sns.barplot(data=coverage_df_read_count, x='chromosomes', y='counts', hue='arm', ax=ax1)\n",
    "\n",
    "\n",
    "sns.boxplot(\n",
    "    data=bam_df,\n",
    "    x='chromosomes',\n",
    "    y='telomere_len',\n",
    "    hue='arm',\n",
    "    ax=ax2\n",
    ")\n",
    "\n",
    "ax1.set(\n",
    "    title='Telomere read counts',\n",
    "    xlabel='',\n",
    "    ylabel='Counts'\n",
    ")\n",
    "\n",
    "ax2.tick_params(axis='x', labelrotation=45)\n",
    "ax2.set(\n",
    "    title='Telomere length per chromosome',\n",
    "    xlabel='Chromosomes',\n",
    "    ylabel='Telomeric length (bp)'\n",
    ")\n",
    "ax_settings(ax1)\n",
    "ax_settings(ax2)\n"
   ]
  },
  {
   "cell_type": "code",
   "execution_count": 50,
   "id": "43479055-7387-4e00-b21d-332abf02a6c3",
   "metadata": {
    "jupyter": {
     "source_hidden": true
    }
   },
   "outputs": [],
   "source": []
  },
  {
   "cell_type": "code",
   "execution_count": null,
   "id": "f8439528",
   "metadata": {},
   "outputs": [],
   "source": []
  }
 ],
 "metadata": {
  "kernelspec": {
   "display_name": "Python 3 (ipykernel)",
   "language": "python",
   "name": "python3"
  },
  "language_info": {
   "codemirror_mode": {
    "name": "ipython",
    "version": 3
   },
   "file_extension": ".py",
   "mimetype": "text/x-python",
   "name": "python",
   "nbconvert_exporter": "python",
   "pygments_lexer": "ipython3",
   "version": "3.8.10"
  },
  "vscode": {
   "interpreter": {
    "hash": "2d0ad458cd4d01ecc1aa79ef2d3a32d554249cad7392686e7f0a5098e0682ba1"
   }
  }
 },
 "nbformat": 4,
 "nbformat_minor": 5
}
